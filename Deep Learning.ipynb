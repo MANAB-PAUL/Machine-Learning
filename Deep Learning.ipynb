{
 "cells": [
  {
   "cell_type": "markdown",
   "id": "f277c54e",
   "metadata": {},
   "source": [
    "# HandWritten Image detection"
   ]
  },
  {
   "cell_type": "code",
   "execution_count": 1,
   "id": "4832d1e6",
   "metadata": {},
   "outputs": [],
   "source": [
    "import tensorflow as tf\n",
    "from tensorflow import keras\n",
    "import matplotlib.pyplot as plt\n",
    "import numpy as np"
   ]
  },
  {
   "cell_type": "code",
   "execution_count": 2,
   "id": "39f4cc7a",
   "metadata": {},
   "outputs": [],
   "source": [
    "(X_train, Y_train), (X_test, Y_test) = keras.datasets.mnist.load_data()"
   ]
  },
  {
   "cell_type": "code",
   "execution_count": 3,
   "id": "acb661a0",
   "metadata": {},
   "outputs": [
    {
     "data": {
      "text/plain": [
       "(60000, 28, 28)"
      ]
     },
     "execution_count": 3,
     "metadata": {},
     "output_type": "execute_result"
    }
   ],
   "source": [
    "X_train.shape"
   ]
  },
  {
   "cell_type": "code",
   "execution_count": 4,
   "id": "b85d5a41",
   "metadata": {},
   "outputs": [],
   "source": [
    "x_train_flattened = X_train.reshape(60000, 28*28)"
   ]
  },
  {
   "cell_type": "code",
   "execution_count": 5,
   "id": "5ec923f0",
   "metadata": {},
   "outputs": [],
   "source": [
    "x_test_flattened = X_test.reshape(len(X_test), 28*28)"
   ]
  },
  {
   "cell_type": "code",
   "execution_count": 6,
   "id": "b6275de4",
   "metadata": {},
   "outputs": [],
   "source": [
    "###scaling"
   ]
  },
  {
   "cell_type": "code",
   "execution_count": 7,
   "id": "fc83ea63",
   "metadata": {},
   "outputs": [],
   "source": [
    "x_train_flattened = x_train_flattened / 255"
   ]
  },
  {
   "cell_type": "code",
   "execution_count": 8,
   "id": "18fa2d31",
   "metadata": {},
   "outputs": [],
   "source": [
    "### creating the model"
   ]
  },
  {
   "cell_type": "markdown",
   "id": "1a6776bd",
   "metadata": {},
   "source": [
    "### model with no hidden layers"
   ]
  },
  {
   "cell_type": "code",
   "execution_count": 9,
   "id": "aaa288bf",
   "metadata": {},
   "outputs": [
    {
     "name": "stdout",
     "output_type": "stream",
     "text": [
      "Epoch 1/30\n",
      "1875/1875 [==============================] - 8s 3ms/step - loss: 0.4684 - accuracy: 0.8765\n",
      "Epoch 2/30\n",
      "1875/1875 [==============================] - 6s 3ms/step - loss: 0.3037 - accuracy: 0.9155\n",
      "Epoch 3/30\n",
      "1875/1875 [==============================] - 6s 3ms/step - loss: 0.2830 - accuracy: 0.9215\n",
      "Epoch 4/30\n",
      "1875/1875 [==============================] - 6s 3ms/step - loss: 0.2734 - accuracy: 0.9233\n",
      "Epoch 5/30\n",
      "1875/1875 [==============================] - 6s 3ms/step - loss: 0.2669 - accuracy: 0.9259\n",
      "Epoch 6/30\n",
      "1875/1875 [==============================] - 6s 3ms/step - loss: 0.2617 - accuracy: 0.9273\n",
      "Epoch 7/30\n",
      "1875/1875 [==============================] - 6s 3ms/step - loss: 0.2583 - accuracy: 0.9280\n",
      "Epoch 8/30\n",
      "1875/1875 [==============================] - 6s 3ms/step - loss: 0.2555 - accuracy: 0.9291\n",
      "Epoch 9/30\n",
      "1875/1875 [==============================] - 6s 3ms/step - loss: 0.2529 - accuracy: 0.9295\n",
      "Epoch 10/30\n",
      "1875/1875 [==============================] - 6s 3ms/step - loss: 0.2511 - accuracy: 0.9306\n",
      "Epoch 11/30\n",
      "1875/1875 [==============================] - 6s 3ms/step - loss: 0.2493 - accuracy: 0.9311\n",
      "Epoch 12/30\n",
      "1875/1875 [==============================] - 6s 3ms/step - loss: 0.2475 - accuracy: 0.9316\n",
      "Epoch 13/30\n",
      "1875/1875 [==============================] - 6s 3ms/step - loss: 0.2464 - accuracy: 0.9321\n",
      "Epoch 14/30\n",
      "1875/1875 [==============================] - 6s 3ms/step - loss: 0.2450 - accuracy: 0.9324\n",
      "Epoch 15/30\n",
      "1875/1875 [==============================] - 6s 3ms/step - loss: 0.2440 - accuracy: 0.9333\n",
      "Epoch 16/30\n",
      "1875/1875 [==============================] - 6s 3ms/step - loss: 0.2430 - accuracy: 0.9329\n",
      "Epoch 17/30\n",
      "1875/1875 [==============================] - 6s 3ms/step - loss: 0.2420 - accuracy: 0.9329\n",
      "Epoch 18/30\n",
      "1875/1875 [==============================] - 6s 3ms/step - loss: 0.2416 - accuracy: 0.9332\n",
      "Epoch 19/30\n",
      "1875/1875 [==============================] - 6s 3ms/step - loss: 0.2399 - accuracy: 0.9332\n",
      "Epoch 20/30\n",
      "1875/1875 [==============================] - 6s 3ms/step - loss: 0.2397 - accuracy: 0.9339\n",
      "Epoch 21/30\n",
      "1875/1875 [==============================] - 6s 3ms/step - loss: 0.2392 - accuracy: 0.9342\n",
      "Epoch 22/30\n",
      "1875/1875 [==============================] - 6s 3ms/step - loss: 0.2386 - accuracy: 0.9338\n",
      "Epoch 23/30\n",
      "1875/1875 [==============================] - 6s 3ms/step - loss: 0.2378 - accuracy: 0.9339\n",
      "Epoch 24/30\n",
      "1875/1875 [==============================] - 6s 3ms/step - loss: 0.2372 - accuracy: 0.9348\n",
      "Epoch 25/30\n",
      "1875/1875 [==============================] - 6s 3ms/step - loss: 0.2363 - accuracy: 0.9344\n",
      "Epoch 26/30\n",
      "1875/1875 [==============================] - 6s 3ms/step - loss: 0.2361 - accuracy: 0.9346\n",
      "Epoch 27/30\n",
      "1875/1875 [==============================] - 6s 3ms/step - loss: 0.2353 - accuracy: 0.9355\n",
      "Epoch 28/30\n",
      "1875/1875 [==============================] - 6s 3ms/step - loss: 0.2357 - accuracy: 0.9345\n",
      "Epoch 29/30\n",
      "1875/1875 [==============================] - 6s 3ms/step - loss: 0.2349 - accuracy: 0.9345\n",
      "Epoch 30/30\n",
      "1875/1875 [==============================] - 6s 3ms/step - loss: 0.2344 - accuracy: 0.9351\n"
     ]
    },
    {
     "data": {
      "text/plain": [
       "<keras.callbacks.History at 0x12538d6fc70>"
      ]
     },
     "execution_count": 9,
     "metadata": {},
     "output_type": "execute_result"
    }
   ],
   "source": [
    "### simple model with no hidden layers\n",
    "model = keras.Sequential([\n",
    "    keras.layers.Dense(10, input_shape = (784,), activation = 'sigmoid')\n",
    "]) ## 10 is the size of the output neuron and 784 is the input\n",
    "\n",
    "model.compile(\n",
    "    optimizer='adam',\n",
    "    loss='sparse_categorical_crossentropy',\n",
    "    metrics=['accuracy']\n",
    ")\n",
    "\n",
    "model.fit(x_train_flattened, Y_train, epochs=30)"
   ]
  },
  {
   "cell_type": "code",
   "execution_count": 10,
   "id": "716cf82d",
   "metadata": {},
   "outputs": [],
   "source": [
    "### testing on test dataset"
   ]
  },
  {
   "cell_type": "code",
   "execution_count": 11,
   "id": "0063fcf4",
   "metadata": {},
   "outputs": [],
   "source": [
    "x_test = x_test_flattened / 255"
   ]
  },
  {
   "cell_type": "code",
   "execution_count": 12,
   "id": "17c93419",
   "metadata": {},
   "outputs": [
    {
     "name": "stdout",
     "output_type": "stream",
     "text": [
      "313/313 [==============================] - 1s 3ms/step - loss: 0.2775 - accuracy: 0.9284\n"
     ]
    },
    {
     "data": {
      "text/plain": [
       "[0.277521550655365, 0.9283999800682068]"
      ]
     },
     "execution_count": 12,
     "metadata": {},
     "output_type": "execute_result"
    }
   ],
   "source": [
    "model.evaluate(x_test, Y_test)"
   ]
  },
  {
   "cell_type": "code",
   "execution_count": 13,
   "id": "2b2a2e83",
   "metadata": {},
   "outputs": [
    {
     "name": "stdout",
     "output_type": "stream",
     "text": [
      "313/313 [==============================] - 1s 2ms/step\n"
     ]
    }
   ],
   "source": [
    "y_predicts = model.predict(x_test)  ### gives output of the prediction of the input dataset"
   ]
  },
  {
   "cell_type": "code",
   "execution_count": 14,
   "id": "a8b94d90",
   "metadata": {},
   "outputs": [],
   "source": [
    "y_predicts_val = []\n",
    "for i in y_predicts:\n",
    "    y_predicts_val.append(np.argmax(i))"
   ]
  },
  {
   "cell_type": "code",
   "execution_count": 15,
   "id": "b1adb13c",
   "metadata": {},
   "outputs": [
    {
     "data": {
      "text/plain": [
       "[7, 2, 1, 0, 4, 1, 4]"
      ]
     },
     "execution_count": 15,
     "metadata": {},
     "output_type": "execute_result"
    }
   ],
   "source": [
    "y_predicts_val[:7]    ### predicted values"
   ]
  },
  {
   "cell_type": "code",
   "execution_count": 16,
   "id": "12f9c070",
   "metadata": {},
   "outputs": [
    {
     "data": {
      "text/plain": [
       "array([7, 2, 1, 0, 4, 1, 4], dtype=uint8)"
      ]
     },
     "execution_count": 16,
     "metadata": {},
     "output_type": "execute_result"
    }
   ],
   "source": [
    "Y_test[:7]    ### actual values"
   ]
  },
  {
   "cell_type": "code",
   "execution_count": 17,
   "id": "d9b6d648",
   "metadata": {},
   "outputs": [
    {
     "name": "stdout",
     "output_type": "stream",
     "text": [
      "tf.Tensor(\n",
      "[[ 962    0    0    2    1    6    5    3    1    0]\n",
      " [   0 1116    4    1    0    1    3    2    8    0]\n",
      " [   7   10  928   13    9    3   10   11   38    3]\n",
      " [   5    0   18  906    4   30    2   10   27    8]\n",
      " [   1    2    6    3  926    0    7    7    8   22]\n",
      " [  10    3    2   25    9  780   14    8   35    6]\n",
      " [  13    3    8    1    8   10  912    1    2    0]\n",
      " [   1   10   19    4    4    1    0  958    3   28]\n",
      " [   7   11    5   15   10   17    9   10  879   11]\n",
      " [  10    8    1    6   29    5    0   24    9  917]], shape=(10, 10), dtype=int32)\n"
     ]
    }
   ],
   "source": [
    "### confusion matrix\n",
    "cm = tf.math.confusion_matrix(labels=Y_test, predictions = y_predicts_val)\n",
    "print(cm)"
   ]
  },
  {
   "cell_type": "markdown",
   "id": "5d2dff77",
   "metadata": {},
   "source": [
    "### model with 1 hidden layer"
   ]
  },
  {
   "cell_type": "code",
   "execution_count": 21,
   "id": "1351e09f",
   "metadata": {},
   "outputs": [
    {
     "name": "stdout",
     "output_type": "stream",
     "text": [
      "Epoch 1/5\n",
      "1875/1875 [==============================] - 11s 5ms/step - loss: 0.2820 - accuracy: 0.9214\n",
      "Epoch 2/5\n",
      "1875/1875 [==============================] - 10s 5ms/step - loss: 0.1294 - accuracy: 0.9627\n",
      "Epoch 3/5\n",
      "1875/1875 [==============================] - 10s 5ms/step - loss: 0.0916 - accuracy: 0.9727\n",
      "Epoch 4/5\n",
      "1875/1875 [==============================] - 10s 5ms/step - loss: 0.0709 - accuracy: 0.9782\n",
      "Epoch 5/5\n",
      "1875/1875 [==============================] - 10s 5ms/step - loss: 0.0559 - accuracy: 0.9833\n"
     ]
    },
    {
     "data": {
      "text/plain": [
       "<keras.callbacks.History at 0x12538d952b0>"
      ]
     },
     "execution_count": 21,
     "metadata": {},
     "output_type": "execute_result"
    }
   ],
   "source": [
    "\n",
    "model1 = keras.Sequential([\n",
    "    keras.layers.Dense(100, input_shape = (784,), activation = 'relu'),\n",
    "    keras.layers.Dense(10, activation = tf.nn.sigmoid)\n",
    "]) ## 10 is the size of the output neuron and 784 is the input\n",
    "\n",
    "model1.compile(\n",
    "    optimizer='adam',\n",
    "    loss='sparse_categorical_crossentropy',\n",
    "    metrics=['accuracy']\n",
    ")\n",
    "\n",
    "model1.fit(x_train_flattened, Y_train, epochs=5)"
   ]
  },
  {
   "cell_type": "code",
   "execution_count": 22,
   "id": "01654627",
   "metadata": {},
   "outputs": [
    {
     "name": "stdout",
     "output_type": "stream",
     "text": [
      "313/313 [==============================] - 1s 3ms/step - loss: 0.0862 - accuracy: 0.9724\n"
     ]
    },
    {
     "data": {
      "text/plain": [
       "[0.08615786582231522, 0.9724000096321106]"
      ]
     },
     "execution_count": 22,
     "metadata": {},
     "output_type": "execute_result"
    }
   ],
   "source": [
    "### evaluating\n",
    "model1.evaluate(x_test, Y_test)"
   ]
  },
  {
   "cell_type": "markdown",
   "id": "202c0776",
   "metadata": {},
   "source": [
    "### model with 2 hidden layers"
   ]
  },
  {
   "cell_type": "code",
   "execution_count": 27,
   "id": "9c3e0722",
   "metadata": {},
   "outputs": [
    {
     "name": "stdout",
     "output_type": "stream",
     "text": [
      "Epoch 1/5\n",
      "1875/1875 [==============================] - 11s 5ms/step - loss: 0.2980 - accuracy: 0.9131\n",
      "Epoch 2/5\n",
      "1875/1875 [==============================] - 8s 4ms/step - loss: 0.1405 - accuracy: 0.9575\n",
      "Epoch 3/5\n",
      "1875/1875 [==============================] - 8s 4ms/step - loss: 0.1041 - accuracy: 0.9681\n",
      "Epoch 4/5\n",
      "1875/1875 [==============================] - 8s 4ms/step - loss: 0.0828 - accuracy: 0.9743\n",
      "Epoch 5/5\n",
      "1875/1875 [==============================] - 8s 4ms/step - loss: 0.0703 - accuracy: 0.9777\n"
     ]
    },
    {
     "data": {
      "text/plain": [
       "<keras.callbacks.History at 0x125322bc070>"
      ]
     },
     "execution_count": 27,
     "metadata": {},
     "output_type": "execute_result"
    }
   ],
   "source": [
    "model2 = keras.Sequential([\n",
    "    keras.layers.Dense(50, input_shape = (784,), activation = 'relu'),\n",
    "    keras.layers.Dense(50, activation = 'relu'),\n",
    "    keras.layers.Dense(10, activation = 'softmax')\n",
    "])\n",
    "\n",
    "model2.compile(\n",
    "    optimizer='adam',\n",
    "    loss='sparse_categorical_crossentropy',\n",
    "    metrics=['accuracy']\n",
    ")\n",
    "\n",
    "model2.fit(x_train_flattened, Y_train, epochs = 5)"
   ]
  },
  {
   "cell_type": "code",
   "execution_count": 28,
   "id": "99046949",
   "metadata": {},
   "outputs": [
    {
     "name": "stdout",
     "output_type": "stream",
     "text": [
      "313/313 [==============================] - 2s 4ms/step - loss: 0.0939 - accuracy: 0.9713\n"
     ]
    },
    {
     "data": {
      "text/plain": [
       "[0.09390000998973846, 0.9713000059127808]"
      ]
     },
     "execution_count": 28,
     "metadata": {},
     "output_type": "execute_result"
    }
   ],
   "source": [
    "model2.evaluate(x_test, Y_test)"
   ]
  },
  {
   "cell_type": "markdown",
   "id": "77aed822",
   "metadata": {},
   "source": [
    "# Matrix excersize "
   ]
  },
  {
   "cell_type": "markdown",
   "id": "2e289cc3",
   "metadata": {},
   "source": [
    "### excersize 1"
   ]
  },
  {
   "cell_type": "code",
   "execution_count": 31,
   "id": "1c29776c",
   "metadata": {},
   "outputs": [
    {
     "data": {
      "text/plain": [
       "array([[15000, 16500, 18750],\n",
       "       [ 5100,  5925,  7875],\n",
       "       [ 8250, 10500, 13500],\n",
       "       [ 6000,  6375,  6750]])"
      ]
     },
     "execution_count": 31,
     "metadata": {},
     "output_type": "execute_result"
    }
   ],
   "source": [
    "revenue_in_usd = np.array([[200, 220, 250], [68, 79, 105], [110, 140, 180], [80, 85, 90]])\n",
    "conversion_rate = 75\n",
    "\n",
    "revenew_in_inr = revenue_in_usd * conversion_rate\n",
    "revenew_in_inr"
   ]
  },
  {
   "cell_type": "markdown",
   "id": "0bc4455c",
   "metadata": {},
   "source": [
    "### excersize 2 "
   ]
  },
  {
   "cell_type": "code",
   "execution_count": 32,
   "id": "b522ccaf",
   "metadata": {},
   "outputs": [
    {
     "data": {
      "text/plain": [
       "array([1900, 2640, 1430])"
      ]
     },
     "execution_count": 32,
     "metadata": {},
     "output_type": "execute_result"
    }
   ],
   "source": [
    "units_sold = np.array([[50, 60, 25], [10, 13, 5], [40, 70, 52]])\n",
    "price_per_unit = np.array([20, 30, 15])\n",
    "\n",
    "total_price_per_month = np.dot(price_per_unit, units_sold)\n",
    "total_price_per_month"
   ]
  },
  {
   "cell_type": "code",
   "execution_count": 35,
   "id": "a92fcf4e",
   "metadata": {},
   "outputs": [
    {
     "data": {
      "text/plain": [
       "array([3175,  665, 3680])"
      ]
     },
     "execution_count": 35,
     "metadata": {},
     "output_type": "execute_result"
    }
   ],
   "source": [
    "total_price_per_flower = np.dot(price_per_unit, units_sold.T)\n",
    "total_price_per_flower"
   ]
  },
  {
   "cell_type": "code",
   "execution_count": null,
   "id": "53712794",
   "metadata": {},
   "outputs": [],
   "source": []
  }
 ],
 "metadata": {
  "kernelspec": {
   "display_name": "Python 3 (ipykernel)",
   "language": "python",
   "name": "python3"
  },
  "language_info": {
   "codemirror_mode": {
    "name": "ipython",
    "version": 3
   },
   "file_extension": ".py",
   "mimetype": "text/x-python",
   "name": "python",
   "nbconvert_exporter": "python",
   "pygments_lexer": "ipython3",
   "version": "3.9.12"
  }
 },
 "nbformat": 4,
 "nbformat_minor": 5
}
